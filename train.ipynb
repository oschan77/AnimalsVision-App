{
  "cells": [
    {
      "cell_type": "code",
      "execution_count": 1,
      "metadata": {
        "id": "B2P-FrTpE6P-"
      },
      "outputs": [],
      "source": [
        "import os\n",
        "\n",
        "# Create directory to store the scripts\n",
        "os.makedirs('scripts', exist_ok=True)"
      ]
    },
    {
      "cell_type": "code",
      "execution_count": 2,
      "metadata": {
        "colab": {
          "base_uri": "https://localhost:8080/"
        },
        "id": "gTiaI6Pk9KJP",
        "outputId": "ffd41d59-b19c-46d5-aecd-0d5bd39b640d"
      },
      "outputs": [
        {
          "name": "stdout",
          "output_type": "stream",
          "text": [
            "Writing scripts/get_data.py\n"
          ]
        }
      ],
      "source": [
        "%%writefile scripts/get_data.py\n",
        "import os\n",
        "import requests\n",
        "import zipfile\n",
        "from pathlib import Path\n",
        "\n",
        "def download_and_extract_data(\n",
        "  data_path: str,\n",
        "  data_url: str,\n",
        "):\n",
        "  # Create directory to store the data\n",
        "  data_path = Path(data_path)\n",
        "  if not data_path.is_dir():\n",
        "    data_path.mkdir(parents=True, exist_ok=True)\n",
        "\n",
        "  # Download data from github\n",
        "  response = requests.get(data_url)\n",
        "  file_name = data_url.split('/')[-1]\n",
        "  with open(data_path / file_name, 'wb') as file:\n",
        "    file.write(response.content)\n",
        "\n",
        "  # Unzip file\n",
        "  with zipfile.ZipFile(data_path / file_name, 'r') as zip_file:\n",
        "    zip_file.extractall(data_path)\n",
        "\n",
        "  # Remove zip file\n",
        "  os.remove(data_path / file_name)"
      ]
    },
    {
      "cell_type": "code",
      "execution_count": 3,
      "metadata": {
        "colab": {
          "base_uri": "https://localhost:8080/"
        },
        "id": "b-qF23L0VX97",
        "outputId": "b2f69198-ed96-4269-8267-45cf1f22b1ea"
      },
      "outputs": [
        {
          "name": "stdout",
          "output_type": "stream",
          "text": [
            "Writing scripts/create_vitb16_model.py\n"
          ]
        }
      ],
      "source": [
        "%%writefile scripts/create_vitb16_model.py\n",
        "import torchvision\n",
        "import torch.nn as nn\n",
        "\n",
        "def finetune_vitb16(\n",
        "  num_classes: int,\n",
        "):\n",
        "  vit_weights = torchvision.models.ViT_B_16_Weights.DEFAULT\n",
        "  vit_model = torchvision.models.vit_b_16(weights=vit_weights)\n",
        "  vit_transform = vit_weights.transforms()\n",
        "\n",
        "  for param in vit_model.parameters():\n",
        "    param.requires_grad = False\n",
        "\n",
        "  vit_model.heads = nn.Sequential(\n",
        "    nn.Linear(in_features=768, out_features=num_classes, bias=True),\n",
        "  )\n",
        "\n",
        "  return vit_model, vit_transform"
      ]
    },
    {
      "cell_type": "code",
      "execution_count": 4,
      "metadata": {
        "colab": {
          "base_uri": "https://localhost:8080/"
        },
        "id": "LNwNMSyXKLqu",
        "outputId": "9015e419-f04b-48a8-ca0a-c8be2489f8bf"
      },
      "outputs": [
        {
          "name": "stdout",
          "output_type": "stream",
          "text": [
            "Writing scripts/data_setup.py\n"
          ]
        }
      ],
      "source": [
        "%%writefile scripts/data_setup.py\n",
        "import os\n",
        "from torchvision.datasets import ImageFolder\n",
        "from torchvision import transforms\n",
        "from torch.utils.data import DataLoader\n",
        "\n",
        "NUM_WORKERS = os.cpu_count()\n",
        "\n",
        "def create_dataloaders(\n",
        "  train_dir: str,\n",
        "  test_dir: str,\n",
        "  transform: transforms.Compose,\n",
        "  batch_size: int,\n",
        "  num_workers: int = NUM_WORKERS,\n",
        "):\n",
        "  train_data = ImageFolder(\n",
        "    train_dir,\n",
        "    transform=transform,\n",
        "  )\n",
        "\n",
        "  test_data = ImageFolder(\n",
        "    test_dir,\n",
        "    transform=transform,\n",
        "  )\n",
        "\n",
        "  train_dataloader = DataLoader(\n",
        "    train_data,\n",
        "    batch_size=batch_size,\n",
        "    shuffle=True,\n",
        "    num_workers=num_workers,\n",
        "    pin_memory=True,\n",
        "  )\n",
        "\n",
        "  test_dataloader = DataLoader(\n",
        "    test_data,\n",
        "    batch_size=batch_size,\n",
        "    shuffle=True,\n",
        "    num_workers=num_workers,\n",
        "    pin_memory=True,\n",
        "  )\n",
        "\n",
        "  class_names = train_data.classes\n",
        "\n",
        "  return train_dataloader, test_dataloader, class_names"
      ]
    },
    {
      "cell_type": "code",
      "execution_count": 5,
      "metadata": {
        "colab": {
          "base_uri": "https://localhost:8080/"
        },
        "id": "TIJEZo-wd5rk",
        "outputId": "4233b6a0-7253-441e-9f77-57cf1f9100e9"
      },
      "outputs": [
        {
          "name": "stdout",
          "output_type": "stream",
          "text": [
            "Writing scripts/engine.py\n"
          ]
        }
      ],
      "source": [
        "%%writefile scripts/engine.py\n",
        "import torch\n",
        "from tqdm.auto import tqdm\n",
        "\n",
        "def train_step(\n",
        "  model: torch.nn.Module,\n",
        "  dataloader: torch.utils.data.DataLoader,\n",
        "  criterion: torch.nn.Module,\n",
        "  optimizer: torch.optim.Optimizer,\n",
        "  device: str,\n",
        "):\n",
        "  train_loss = 0\n",
        "\n",
        "  model.train()\n",
        "\n",
        "  for batch, (X, y) in enumerate(dataloader):\n",
        "    X = X.to(device, non_blocking=True)\n",
        "    y = y.to(device, non_blocking=True)\n",
        "\n",
        "    out = model(X)\n",
        "    loss = criterion(out, y)\n",
        "    train_loss += loss.item()\n",
        "    optimizer.zero_grad()\n",
        "    loss.backward()\n",
        "    optimizer.step()\n",
        "\n",
        "    train_loss = train_loss / len(dataloader)\n",
        "  \n",
        "  return train_loss\n",
        "\n",
        "\n",
        "def test_step(\n",
        "  model: torch.nn.Module,\n",
        "  dataloader: torch.utils.data.DataLoader,\n",
        "  criterion: torch.nn.Module,\n",
        "  device: str,\n",
        "):\n",
        "  test_loss = 0\n",
        "\n",
        "  model.eval()\n",
        "\n",
        "  with torch.inference_mode():\n",
        "    for batch, (X, y) in enumerate(dataloader):\n",
        "      X = X.to(device, non_blocking=True)\n",
        "      y = y.to(device, non_blocking=True)\n",
        "\n",
        "      out = model(X)\n",
        "      loss = criterion(out, y)\n",
        "      test_loss += loss.item()\n",
        "\n",
        "      test_loss = test_loss / len(dataloader)\n",
        "  \n",
        "  return test_loss\n",
        "\n",
        "\n",
        "def train(\n",
        "  epochs: int,\n",
        "  model: torch.nn.Module,\n",
        "  train_dataloader: torch.utils.data.DataLoader,\n",
        "  test_dataloader: torch.utils.data.DataLoader,\n",
        "  criterion: torch.nn.Module,\n",
        "  optimizer: torch.optim.Optimizer,\n",
        "  device: str,\n",
        "):\n",
        "  model = model.to(device)\n",
        "\n",
        "  for ep in tqdm(range(epochs)):\n",
        "    train_loss = train_step(\n",
        "      model=model,\n",
        "      dataloader=train_dataloader,\n",
        "      criterion=criterion,\n",
        "      optimizer=optimizer,\n",
        "      device=device,\n",
        "    )\n",
        "\n",
        "    test_loss = test_step(\n",
        "      model=model,\n",
        "      dataloader=test_dataloader,\n",
        "      criterion=criterion,\n",
        "      device=device,\n",
        "    )\n",
        "\n",
        "    print(f'Epoch: {ep} | Train loss: {train_loss} | Test loss: {test_loss}')"
      ]
    },
    {
      "cell_type": "code",
      "execution_count": 6,
      "metadata": {
        "colab": {
          "base_uri": "https://localhost:8080/"
        },
        "id": "HBDH7FVoqP3y",
        "outputId": "a88e0438-6982-4ecc-e245-8db40dd8325d"
      },
      "outputs": [
        {
          "name": "stdout",
          "output_type": "stream",
          "text": [
            "Writing scripts/utils.py\n"
          ]
        }
      ],
      "source": [
        "%%writefile scripts/utils.py\n",
        "import torch\n",
        "from pathlib import Path\n",
        "\n",
        "def save_model(\n",
        "  model: torch.nn.Module,\n",
        "  target_path: str,\n",
        "  model_name: str,\n",
        "):\n",
        "  assert model_name.endswith('pth') or model_name.endswith('.pt'), \"[Invalid model name]: model_name should end with '.pth' or '.pt'.\"\n",
        "\n",
        "  target_path = Path(target_path)\n",
        "  target_path.mkdir(parents=True, exist_ok=True)\n",
        "\n",
        "  torch.save(\n",
        "    obj = model.state_dict(),\n",
        "    f = target_path / model_name,\n",
        "  )"
      ]
    },
    {
      "cell_type": "code",
      "execution_count": 7,
      "metadata": {
        "colab": {
          "base_uri": "https://localhost:8080/"
        },
        "id": "BLDfZSPzxFmq",
        "outputId": "118120f7-bd84-42c2-c06f-e5eb04963f6f"
      },
      "outputs": [
        {
          "name": "stdout",
          "output_type": "stream",
          "text": [
            "Writing scripts/train.py\n"
          ]
        }
      ],
      "source": [
        "%%writefile scripts/train.py\n",
        "import torch\n",
        "import get_data, create_vitb16_model, data_setup, engine, utils\n",
        "\n",
        "DEVICE = 'cuda' if torch.cuda.is_available() else 'cpu'\n",
        "DATA_PATH = 'data'\n",
        "DATA_URL = 'https://github.com/oschan77/AnimalsVision-App/raw/main/data/elephant_chicken_sheep_data.zip'\n",
        "NUM_CLASSES = 3\n",
        "TRAIN_DIR = 'data/elephant_chicken_sheep_data/train'\n",
        "TEST_DIR = 'data/elephant_chicken_sheep_data/test'\n",
        "BATCH_SIZE = 32\n",
        "LEARNING_RATE = 5e-3\n",
        "EPOCHS = 10\n",
        "TARGET_PATH = 'saved_models'\n",
        "MODEL_NAME = 'vitb16_v1.pth'\n",
        "\n",
        "get_data.download_and_extract_data(\n",
        "  data_path=DATA_PATH,\n",
        "  data_url=DATA_URL,\n",
        ")\n",
        "\n",
        "vit_model, vit_transform = create_vitb16_model.finetune_vitb16(\n",
        "  num_classes=NUM_CLASSES,\n",
        ")\n",
        "\n",
        "train_dataloader, test_dataloader, class_names = data_setup.create_dataloaders(\n",
        "  train_dir=TRAIN_DIR,\n",
        "  test_dir=TEST_DIR,\n",
        "  transform=vit_transform,\n",
        "  batch_size=BATCH_SIZE,\n",
        ")\n",
        "\n",
        "criterion = torch.nn.CrossEntropyLoss()\n",
        "optimizer = torch.optim.Adam(vit_model.parameters(), lr=LEARNING_RATE)\n",
        "\n",
        "engine.train(\n",
        "  epochs=EPOCHS,\n",
        "  model=vit_model,\n",
        "  train_dataloader=train_dataloader,\n",
        "  test_dataloader=test_dataloader,\n",
        "  criterion=criterion,\n",
        "  optimizer=optimizer,\n",
        "  device=DEVICE,\n",
        ")\n",
        "\n",
        "utils.save_model(\n",
        "  model=vit_model,\n",
        "  target_path=TARGET_PATH,\n",
        "  model_name=MODEL_NAME,\n",
        ")"
      ]
    },
    {
      "cell_type": "code",
      "execution_count": 8,
      "metadata": {
        "colab": {
          "base_uri": "https://localhost:8080/"
        },
        "id": "7azpzAAe2PDq",
        "outputId": "9944db04-db67-4ed6-fd8c-59cfd8bacf6d"
      },
      "outputs": [
        {
          "name": "stdout",
          "output_type": "stream",
          "text": [
            "Writing scripts/predict.py\n"
          ]
        }
      ],
      "source": [
        "%%writefile scripts/predict.py\n",
        "import torch\n",
        "from torch import nn\n",
        "from torchvision import transforms\n",
        "from timeit import default_timer as timer\n",
        "from typing import List\n",
        "\n",
        "def predict_single_image(\n",
        "  image,\n",
        "  model: nn.Module,\n",
        "  transform: transforms.Compose,\n",
        "  class_names: List[str],\n",
        "  device: str,\n",
        "):\n",
        "  start_time = timer()\n",
        "  image = transform(image).unsqueeze(0).to(device)\n",
        "  model.eval()\n",
        "  logits = model(image)\n",
        "  with torch.inference_mode():\n",
        "    probs = torch.softmax(logits, dim=1)\n",
        "\n",
        "  classes_and_probs = {class_names[i]: float(probs[0][i]) for i in range(len(class_names))}\n",
        "  inference_time = round(timer() - start_time, 5)\n",
        "\n",
        "  print(f'classes_and_probs: {classes_and_probs}')\n",
        "  print(f'inference_time: {inference_time}')\n",
        "\n",
        "  return classes_and_probs, inference_time"
      ]
    },
    {
      "cell_type": "code",
      "execution_count": 9,
      "metadata": {
        "colab": {
          "base_uri": "https://localhost:8080/"
        },
        "id": "hQXkJzsa1Gpu",
        "outputId": "86d68920-78d1-43c7-e304-35efa2ff0d78"
      },
      "outputs": [
        {
          "name": "stdout",
          "output_type": "stream",
          "text": [
            "Downloading: \"https://download.pytorch.org/models/vit_b_16-c867db91.pth\" to /root/.cache/torch/hub/checkpoints/vit_b_16-c867db91.pth\n",
            "100% 330M/330M [00:03<00:00, 88.4MB/s]\n",
            "  0% 0/10 [00:00<?, ?it/s]Epoch: 0 | Train loss: 0.00024761712973031536 | Test loss: 0.0008062787690303392\n",
            " 10% 1/10 [00:11<01:40, 11.11s/it]Epoch: 1 | Train loss: 2.9407685559104668e-05 | Test loss: 4.519576651984136e-05\n",
            " 20% 2/10 [00:15<00:55,  6.97s/it]Epoch: 2 | Train loss: 6.888002583932233e-06 | Test loss: 1.6687422801085092e-05\n",
            " 30% 3/10 [00:19<00:39,  5.67s/it]Epoch: 3 | Train loss: 1.4119983562620175e-06 | Test loss: 8.81089979682454e-06\n",
            " 40% 4/10 [00:23<00:31,  5.21s/it]Epoch: 4 | Train loss: 6.934541221814e-06 | Test loss: 1.6546397394752905e-05\n",
            " 50% 5/10 [00:27<00:24,  4.82s/it]Epoch: 5 | Train loss: 2.039409309366469e-06 | Test loss: 4.486573170989114e-06\n",
            " 60% 6/10 [00:32<00:18,  4.61s/it]Epoch: 6 | Train loss: 4.972168890094082e-06 | Test loss: 5.635954645792178e-06\n",
            " 70% 7/10 [00:36<00:13,  4.60s/it]Epoch: 7 | Train loss: 2.8333170885225852e-06 | Test loss: 1.5008924223096713e-05\n",
            " 80% 8/10 [00:40<00:08,  4.45s/it]Epoch: 8 | Train loss: 1.2510237569186519e-06 | Test loss: 8.268290339738425e-06\n",
            " 90% 9/10 [00:45<00:04,  4.50s/it]Epoch: 9 | Train loss: 1.2047234999028756e-06 | Test loss: 8.560890516188616e-06\n",
            "100% 10/10 [00:49<00:00,  4.99s/it]\n"
          ]
        }
      ],
      "source": [
        "!python scripts/train.py"
      ]
    }
  ],
  "metadata": {
    "accelerator": "GPU",
    "colab": {
      "provenance": []
    },
    "gpuClass": "standard",
    "kernelspec": {
      "display_name": "Python 3",
      "name": "python3"
    },
    "language_info": {
      "name": "python"
    }
  },
  "nbformat": 4,
  "nbformat_minor": 0
}
