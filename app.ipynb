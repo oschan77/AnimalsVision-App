{
  "nbformat": 4,
  "nbformat_minor": 0,
  "metadata": {
    "colab": {
      "provenance": []
    },
    "kernelspec": {
      "name": "python3",
      "display_name": "Python 3"
    },
    "language_info": {
      "name": "python"
    },
    "gpuClass": "standard"
  },
  "cells": [
    {
      "cell_type": "code",
      "source": [
        "%%writefile model.py\n",
        "import torchvision\n",
        "import torch.nn as nn\n",
        "\n",
        "def create_vitb16_model(\n",
        "  num_classes: int,\n",
        "):\n",
        "  vit_weights = torchvision.models.ViT_B_16_Weights.DEFAULT\n",
        "  vit_model = torchvision.models.vit_b_16(weights=vit_weights)\n",
        "  vit_transform = vit_weights.transforms()\n",
        "\n",
        "  for param in vit_model.parameters():\n",
        "    param.requires_grad = False\n",
        "\n",
        "  vit_model.heads = nn.Sequential(\n",
        "    nn.Linear(in_features=768, out_features=num_classes, bias=True),\n",
        "  )\n",
        "\n",
        "  return vit_model, vit_transform"
      ],
      "metadata": {
        "colab": {
          "base_uri": "https://localhost:8080/"
        },
        "id": "GPdY3yFz3lP5",
        "outputId": "571ef90a-ba55-4412-f64e-e8bedb19d69a"
      },
      "execution_count": null,
      "outputs": [
        {
          "output_type": "stream",
          "name": "stdout",
          "text": [
            "Writing model.py\n"
          ]
        }
      ]
    },
    {
      "cell_type": "code",
      "source": [
        "%%writefile requirements.txt\n",
        "torch==1.13.1\n",
        "torchvision==0.14.1\n",
        "gradio==3.17.1"
      ],
      "metadata": {
        "colab": {
          "base_uri": "https://localhost:8080/"
        },
        "id": "9nQ6Ys_W3lNj",
        "outputId": "5bedaf42-a201-4c43-ce48-12aa346ccefc"
      },
      "execution_count": null,
      "outputs": [
        {
          "output_type": "stream",
          "name": "stdout",
          "text": [
            "Writing requirements.txt\n"
          ]
        }
      ]
    },
    {
      "cell_type": "code",
      "source": [
        "%%writefile app.py\n",
        "import model\n",
        "import os\n",
        "import torch\n",
        "import gradio as gr\n",
        "from timeit import default_timer as timer\n",
        "from torch import nn\n",
        "from torchvision import transforms\n",
        "\n",
        "class_names = ['chicken', 'elephant' ,'sheep']\n",
        "\n",
        "DEVICE = 'cpu'\n",
        "\n",
        "vit_model, vit_transform = model.create_vitb16_model(\n",
        "  num_classes=len(class_names)\n",
        ")\n",
        "\n",
        "vit_model.load_state_dict(\n",
        "  torch.load(\n",
        "    f='vitb16_v1.pth',\n",
        "    map_location=torch.device(DEVICE),\n",
        "  )\n",
        ")\n",
        "\n",
        "def predict_single_image(image):\n",
        "  start_time = timer()\n",
        "  image = vit_transform(image).unsqueeze(0).to(DEVICE)\n",
        "  vit_model.eval()\n",
        "  logits = vit_model(image)\n",
        "  with torch.inference_mode():\n",
        "    probs = torch.softmax(logits, dim=1)\n",
        "\n",
        "  classes_and_probs = {class_names[i]: float(probs[0][i]) for i in range(len(class_names))}\n",
        "  inference_time = round(timer() - start_time, 5)\n",
        "\n",
        "  return classes_and_probs, inference_time\n",
        "\n",
        "title = 'AnimalsVision \\U0001F413\\U0001F418\\U0001F411'\n",
        "description = 'A ViT computer vision model to classify images of animals as chicken, elephant or sheep.'\n",
        "article = 'GitHub Repo: https://github.com/oschan77/AnimalsVision-App'\n",
        "\n",
        "examples = [['examples/' + example] for example in os.listdir('examples/')]\n",
        "\n",
        "app = gr.Interface(\n",
        "  fn=predict_single_image,\n",
        "  inputs=gr.Image(type='pil'),\n",
        "  outputs=[\n",
        "    gr.Label(num_top_classes=len(class_names), label='Predictions'),\n",
        "    gr.Number(label='Prediction time (sec)'),\n",
        "  ],\n",
        "  examples=examples,\n",
        "  title=title,\n",
        "  description=description,\n",
        "  article=article,\n",
        ")\n",
        "\n",
        "app.launch()"
      ],
      "metadata": {
        "colab": {
          "base_uri": "https://localhost:8080/"
        },
        "id": "UAO-VDaD3lRw",
        "outputId": "ce992822-12a2-43ab-8947-337b2849b614"
      },
      "execution_count": null,
      "outputs": [
        {
          "output_type": "stream",
          "name": "stdout",
          "text": [
            "Writing app.py\n"
          ]
        }
      ]
    },
    {
      "cell_type": "code",
      "source": [],
      "metadata": {
        "id": "VYBvq3_p-1i9"
      },
      "execution_count": null,
      "outputs": []
    }
  ]
}